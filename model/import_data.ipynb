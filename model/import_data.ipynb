{
 "cells": [
  {
   "cell_type": "code",
   "execution_count": 1,
   "metadata": {},
   "outputs": [],
   "source": [
    "import pandas as pd\n",
    "import sqlite3\n",
    "from utils import lire_requete_sql, executer_requete_sql, nettoyer_dataframe\n",
    "\n",
    "\n",
    "# Chemin vers le fichier de requête SQL\n",
    "chemin_requete_sql = '../sql_queries/request_model.sql'\n",
    "\n",
    "# Connexion à la base de données et exécution de la requête\n",
    "df_reviews = executer_requete_sql(lire_requete_sql(chemin_requete_sql), \"../olist.db\")\n",
    "\n",
    "# Netoyage du DataFrame df_reviews\n",
    "df_reviews = nettoyer_dataframe(df_reviews)"
   ]
  },
  {
   "cell_type": "code",
   "execution_count": 2,
   "metadata": {},
   "outputs": [
    {
     "name": "stdout",
     "output_type": "stream",
     "text": [
      "<class 'pandas.core.frame.DataFrame'>\n",
      "Index: 29493 entries, 0 to 29494\n",
      "Data columns (total 5 columns):\n",
      " #   Column                    Non-Null Count  Dtype \n",
      "---  ------                    --------------  ----- \n",
      " 0   order_id                  29493 non-null  object\n",
      " 1   customer_zip_code_prefix  29493 non-null  object\n",
      " 2   customer_city             29493 non-null  object\n",
      " 3   customer_state            29493 non-null  object\n",
      " 4   delivery_time_hours       29493 non-null  int64 \n",
      "dtypes: int64(1), object(4)\n",
      "memory usage: 1.4+ MB\n"
     ]
    }
   ],
   "source": [
    "df_reviews.info()"
   ]
  },
  {
   "cell_type": "code",
   "execution_count": 3,
   "metadata": {},
   "outputs": [
    {
     "data": {
      "text/html": [
       "<div>\n",
       "<style scoped>\n",
       "    .dataframe tbody tr th:only-of-type {\n",
       "        vertical-align: middle;\n",
       "    }\n",
       "\n",
       "    .dataframe tbody tr th {\n",
       "        vertical-align: top;\n",
       "    }\n",
       "\n",
       "    .dataframe thead th {\n",
       "        text-align: right;\n",
       "    }\n",
       "</style>\n",
       "<table border=\"1\" class=\"dataframe\">\n",
       "  <thead>\n",
       "    <tr style=\"text-align: right;\">\n",
       "      <th></th>\n",
       "      <th>order_id</th>\n",
       "      <th>customer_zip_code_prefix</th>\n",
       "      <th>customer_city</th>\n",
       "      <th>customer_state</th>\n",
       "      <th>delivery_time_hours</th>\n",
       "    </tr>\n",
       "  </thead>\n",
       "  <tbody>\n",
       "    <tr>\n",
       "      <th>0</th>\n",
       "      <td>e481f51cbdc54678b7cc49136f2d6af7</td>\n",
       "      <td>03149</td>\n",
       "      <td>sao paulo</td>\n",
       "      <td>SP</td>\n",
       "      <td>202</td>\n",
       "    </tr>\n",
       "    <tr>\n",
       "      <th>1</th>\n",
       "      <td>949d5b44dbf5de918fe9c16f97b45f8a</td>\n",
       "      <td>59296</td>\n",
       "      <td>sao goncalo do amarante</td>\n",
       "      <td>RN</td>\n",
       "      <td>317</td>\n",
       "    </tr>\n",
       "    <tr>\n",
       "      <th>2</th>\n",
       "      <td>a4591c265e18cb1dcee52889e2d8acc3</td>\n",
       "      <td>86320</td>\n",
       "      <td>congonhinhas</td>\n",
       "      <td>PR</td>\n",
       "      <td>397</td>\n",
       "    </tr>\n",
       "    <tr>\n",
       "      <th>3</th>\n",
       "      <td>e69bfb5eb88e0ed6a785585b27e16dbf</td>\n",
       "      <td>18075</td>\n",
       "      <td>sorocaba</td>\n",
       "      <td>SP</td>\n",
       "      <td>437</td>\n",
       "    </tr>\n",
       "    <tr>\n",
       "      <th>4</th>\n",
       "      <td>34513ce0c4fab462a55830c0989c7edb</td>\n",
       "      <td>04278</td>\n",
       "      <td>sao paulo</td>\n",
       "      <td>SP</td>\n",
       "      <td>138</td>\n",
       "    </tr>\n",
       "  </tbody>\n",
       "</table>\n",
       "</div>"
      ],
      "text/plain": [
       "                           order_id customer_zip_code_prefix  \\\n",
       "0  e481f51cbdc54678b7cc49136f2d6af7                    03149   \n",
       "1  949d5b44dbf5de918fe9c16f97b45f8a                    59296   \n",
       "2  a4591c265e18cb1dcee52889e2d8acc3                    86320   \n",
       "3  e69bfb5eb88e0ed6a785585b27e16dbf                    18075   \n",
       "4  34513ce0c4fab462a55830c0989c7edb                    04278   \n",
       "\n",
       "             customer_city customer_state  delivery_time_hours  \n",
       "0                sao paulo             SP                  202  \n",
       "1  sao goncalo do amarante             RN                  317  \n",
       "2             congonhinhas             PR                  397  \n",
       "3                 sorocaba             SP                  437  \n",
       "4                sao paulo             SP                  138  "
      ]
     },
     "execution_count": 3,
     "metadata": {},
     "output_type": "execute_result"
    }
   ],
   "source": [
    "df_reviews.head()"
   ]
  },
  {
   "cell_type": "markdown",
   "metadata": {},
   "source": [
    "## LinearRegression"
   ]
  },
  {
   "cell_type": "code",
   "execution_count": 18,
   "metadata": {},
   "outputs": [
    {
     "ename": "ImportError",
     "evalue": "cannot import name 'train_linear_regression_with_mlflow' from 'utils' (/home/utilisateur/Documents/Projets/modele API Charles/ml-model-api-template-devops/model/utils.py)",
     "output_type": "error",
     "traceback": [
      "\u001b[0;31m---------------------------------------------------------------------------\u001b[0m",
      "\u001b[0;31mImportError\u001b[0m                               Traceback (most recent call last)",
      "\u001b[1;32m/home/utilisateur/Documents/Projets/modele API Charles/ml-model-api-template-devops/model/import_data.ipynb Cell 5\u001b[0m line \u001b[0;36m6\n\u001b[1;32m      <a href='vscode-notebook-cell:/home/utilisateur/Documents/Projets/modele%20API%20Charles/ml-model-api-template-devops/model/import_data.ipynb#X14sZmlsZQ%3D%3D?line=3'>4</a>\u001b[0m \u001b[39mfrom\u001b[39;00m \u001b[39msklearn\u001b[39;00m\u001b[39m.\u001b[39;00m\u001b[39mmodel_selection\u001b[39;00m \u001b[39mimport\u001b[39;00m train_test_split\n\u001b[1;32m      <a href='vscode-notebook-cell:/home/utilisateur/Documents/Projets/modele%20API%20Charles/ml-model-api-template-devops/model/import_data.ipynb#X14sZmlsZQ%3D%3D?line=4'>5</a>\u001b[0m \u001b[39mimport\u001b[39;00m \u001b[39mpandas\u001b[39;00m \u001b[39mas\u001b[39;00m \u001b[39mpd\u001b[39;00m\n\u001b[0;32m----> <a href='vscode-notebook-cell:/home/utilisateur/Documents/Projets/modele%20API%20Charles/ml-model-api-template-devops/model/import_data.ipynb#X14sZmlsZQ%3D%3D?line=5'>6</a>\u001b[0m \u001b[39mfrom\u001b[39;00m \u001b[39mutils\u001b[39;00m \u001b[39mimport\u001b[39;00m train_linear_regression_with_mlflow\n\u001b[1;32m     <a href='vscode-notebook-cell:/home/utilisateur/Documents/Projets/modele%20API%20Charles/ml-model-api-template-devops/model/import_data.ipynb#X14sZmlsZQ%3D%3D?line=10'>11</a>\u001b[0m train_linear_regression_with_mlflow(df_reviews)\n",
      "\u001b[0;31mImportError\u001b[0m: cannot import name 'train_linear_regression_with_mlflow' from 'utils' (/home/utilisateur/Documents/Projets/modele API Charles/ml-model-api-template-devops/model/utils.py)"
     ]
    }
   ],
   "source": [
    "import mlflow\n",
    "from sklearn.linear_model import LogisticRegression\n",
    "from sklearn.metrics import mean_squared_error, r2_score\n",
    "from sklearn.model_selection import train_test_split\n",
    "import pandas as pd\n",
    "from utils import train_linear_regression_with_mlflow\n",
    "\n",
    "train_linear_regression_with_mlflow(df_reviews)"
   ]
  },
  {
   "cell_type": "code",
   "execution_count": 14,
   "metadata": {},
   "outputs": [
    {
     "name": "stderr",
     "output_type": "stream",
     "text": [
      "/home/utilisateur/Documents/Projets/modele API Charles/ml-model-api-template-devops/env/lib/python3.10/site-packages/sklearn/metrics/_regression.py:483: FutureWarning: 'squared' is deprecated in version 1.4 and will be removed in 1.6. To calculate the root mean squared error, use the function'root_mean_squared_error'.\n",
      "  warnings.warn(\n"
     ]
    },
    {
     "name": "stdout",
     "output_type": "stream",
     "text": [
      "Root Mean Squared Error (RMSE): 216.02741192561237\n",
      "Coefficient de détermination (R^2) sur les données de test: -0.03570939594822797\n"
     ]
    }
   ],
   "source": [
    "import pandas as pd\n",
    "from sklearn.model_selection import train_test_split\n",
    "from sklearn.linear_model import LinearRegression\n",
    "from sklearn.preprocessing import OneHotEncoder\n",
    "from sklearn.compose import ColumnTransformer\n",
    "from sklearn.pipeline import Pipeline\n",
    "from sklearn.metrics import mean_squared_error, r2_score\n",
    "import mlflow\n",
    "import mlflow.sklearn\n",
    "\n",
    "# Votre DataFrame df_reviews doit contenir les colonnes nécessaires pour l'entraînement du modèle\n",
    "features = ['customer_zip_code_prefix', 'customer_city', 'customer_state']\n",
    "target = 'delivery_time_hours'\n",
    "\n",
    "X = df_reviews[features]\n",
    "y = df_reviews[target]\n",
    "\n",
    "# Séparation des données d'entraînement et de test\n",
    "X_train, X_test, y_train, y_test = train_test_split(X, y, test_size=0.2, random_state=42)\n",
    "\n",
    "# Construction du pipeline de prétraitement\n",
    "numeric_features = []  # Aucune caractéristique numérique dans ce cas\n",
    "\n",
    "categorical_features = ['customer_zip_code_prefix', 'customer_city', 'customer_state']\n",
    "\n",
    "categorical_transformer = Pipeline(steps=[('onehot', OneHotEncoder(handle_unknown='ignore'))])\n",
    "\n",
    "preprocessor = ColumnTransformer(\n",
    "    transformers=[\n",
    "        ('cat', categorical_transformer, categorical_features)])\n",
    "\n",
    "# Création du pipeline complet avec le modèle de régression\n",
    "model = Pipeline(steps=[('preprocessor', preprocessor),\n",
    "                        ('regressor', LinearRegression())])\n",
    "\n",
    "# Initialisation de MLflow\n",
    "mlflow_tracking_uri = \"http://127.0.0.1:5000\"\n",
    "experiment_name = \"olist_experiment\"\n",
    "mlflow.set_tracking_uri(mlflow_tracking_uri)\n",
    "mlflow.set_experiment(experiment_name)\n",
    "\n",
    "# Enregistrement des paramètres et métriques avec MLflow\n",
    "with mlflow.start_run():\n",
    "    # Entraînement du modèle\n",
    "    model.fit(X_train, y_train)\n",
    "    \n",
    "    # Prédiction sur les données de test\n",
    "    y_pred = model.predict(X_test)\n",
    "\n",
    "    # Calcul des métriques\n",
    "    rmse = mean_squared_error(y_test, y_pred, squared=False)\n",
    "    r2 = r2_score(y_test, y_pred)\n",
    "    \n",
    "    # Enregistrement des métriques dans MLflow\n",
    "    mlflow.log_metric(\"rmse\", rmse)\n",
    "    mlflow.log_metric(\"r2\", r2)\n",
    "\n",
    "    # Enregistrement du modèle dans MLflow\n",
    "    mlflow.sklearn.log_model(model, \"model\")\n",
    "    \n",
    "    # Affichage des métriques\n",
    "    print(\"Root Mean Squared Error (RMSE):\", rmse)\n",
    "    print(\"Coefficient de détermination (R^2) sur les données de test:\", r2)\n"
   ]
  },
  {
   "cell_type": "markdown",
   "metadata": {},
   "source": [
    "## RandomForestRegressor"
   ]
  },
  {
   "cell_type": "code",
   "execution_count": 7,
   "metadata": {},
   "outputs": [],
   "source": [
    "# import pickle\n",
    "\n",
    "# # Enregistrement du modèle\n",
    "# with open('model.pkl', 'wb') as f:\n",
    "#     pickle.dump(model, f)"
   ]
  },
  {
   "cell_type": "code",
   "execution_count": 8,
   "metadata": {},
   "outputs": [],
   "source": [
    "# # Chargement du modèle à partir du fichier pickle\n",
    "# with open('modele.pkl', 'rb') as f:\n",
    "#     loaded_model = pickle.load(f)"
   ]
  },
  {
   "cell_type": "code",
   "execution_count": 9,
   "metadata": {},
   "outputs": [],
   "source": [
    "# from sklearn.ensemble import RandomForestRegressor\n",
    "# from sklearn.metrics import mean_squared_error, r2_score\n",
    "# from sklearn.model_selection import train_test_split\n",
    "# import pandas as pd\n",
    "\n",
    "# # Sélection des colonnes numériques et catégorielles\n",
    "# numeric_features = ['delivery_time_hours']  # Votre cible\n",
    "# categorical_features = ['customer_zip_code_prefix', 'customer_city', 'customer_state']\n",
    "\n",
    "# # Encodage one-hot des caractéristiques catégorielles\n",
    "# X_cat = pd.get_dummies(df_reviews[categorical_features], drop_first=True)\n",
    "\n",
    "# # Sélection des fonctionnalités et de la cible\n",
    "# X = pd.concat([X_cat, df_reviews[numeric_features]], axis=1)\n",
    "# y = df_reviews['delivery_time_hours']\n",
    "\n",
    "# # Séparation des données d'entraînement et de test\n",
    "# X_train, X_test, y_train, y_test = train_test_split(X, y, test_size=0.2, random_state=42)\n",
    "\n",
    "# # Création et entraînement du modèle RandomForest\n",
    "# model = RandomForestRegressor()\n",
    "# model.fit(X_train, y_train)\n",
    "\n",
    "# # Prédiction sur les données de test\n",
    "# y_pred = model.predict(X_test)\n",
    "\n",
    "# # Calcul de l'erreur quadratique moyenne (RMSE)\n",
    "# rmse = mean_squared_error(y_test, y_pred, squared=False)\n",
    "# print(\"Root Mean Squared Error (RMSE):\", rmse)\n",
    "\n",
    "# # Calcul du score R^2 sur les données de test\n",
    "# r2 = r2_score(y_test, y_pred)\n",
    "# print(\"Coefficient de détermination (R^2) sur les données de test:\", r2)\n",
    "\n",
    "# # Root Mean Squared Error (RMSE): 0.6768629173204135\n",
    "# # Coefficient de détermination (R^2) sur les données de test: 0.9999912509174399"
   ]
  }
 ],
 "metadata": {
  "kernelspec": {
   "display_name": "env",
   "language": "python",
   "name": "python3"
  },
  "language_info": {
   "codemirror_mode": {
    "name": "ipython",
    "version": 3
   },
   "file_extension": ".py",
   "mimetype": "text/x-python",
   "name": "python",
   "nbconvert_exporter": "python",
   "pygments_lexer": "ipython3",
   "version": "3.10.12"
  },
  "orig_nbformat": 4
 },
 "nbformat": 4,
 "nbformat_minor": 2
}
